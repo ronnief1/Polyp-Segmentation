{
  "nbformat": 4,
  "nbformat_minor": 0,
  "metadata": {
    "colab": {
      "provenance": [],
      "collapsed_sections": [],
      "mount_file_id": "1VKq1CJrOX_u2eGRv3yGy6hwZveB8oVMj",
      "authorship_tag": "ABX9TyObHU907mtZ3dNZrsp6UBCD",
      "include_colab_link": true
    },
    "kernelspec": {
      "name": "python3",
      "display_name": "Python 3"
    },
    "language_info": {
      "name": "python"
    }
  },
  "cells": [
    {
      "cell_type": "markdown",
      "metadata": {
        "id": "view-in-github",
        "colab_type": "text"
      },
      "source": [
        "<a href=\"https://colab.research.google.com/github/ronnief1/Polyp-Segmentation/blob/main/data_preparation.ipynb\" target=\"_parent\"><img src=\"https://colab.research.google.com/assets/colab-badge.svg\" alt=\"Open In Colab\"/></a>"
      ]
    },
    {
      "cell_type": "code",
      "execution_count": 1,
      "metadata": {
        "id": "G53iwkjmZu_j"
      },
      "outputs": [],
      "source": [
        "!pip install split-folders\n",
        "import os\n",
        "import splitfolders"
      ]
    },
    {
      "cell_type": "code",
      "source": [
        "splitfolders.ratio('/content/drive/MyDrive/ColabNotebooks/AppliedDeepLearning/Kvasir-SEG/',\n",
        "                   output=\"/content/drive/MyDrive/ColabNotebooks/AppliedDeepLearning/Kvasir-SEG/output\", seed=1337, ratio=(.8, 0.1,0.1)) "
      ],
      "metadata": {
        "colab": {
          "base_uri": "https://localhost:8080/"
        },
        "id": "VIC1KwvvecUe",
        "outputId": "841fc809-9acf-493c-fb9e-399354534c2e"
      },
      "execution_count": 32,
      "outputs": [
        {
          "output_type": "stream",
          "name": "stderr",
          "text": [
            "Copying files: 2000 files [00:26, 75.44 files/s]\n"
          ]
        }
      ]
    },
    {
      "cell_type": "code",
      "source": [
        "print(\"Number of training images: \", len(os.listdir('/content/drive/MyDrive/ColabNotebooks/AppliedDeepLearning/Kvasir-SEG/output/train/images')))\n",
        "print(\"Number of training masks: \", len(os.listdir('/content/drive/MyDrive/ColabNotebooks/AppliedDeepLearning/Kvasir-SEG/output/train/masks')))\n",
        "print(\"Number of val images: \", len(os.listdir('/content/drive/MyDrive/ColabNotebooks/AppliedDeepLearning/Kvasir-SEG/output/val/images')))\n",
        "print(\"Number of val masks: \", len(os.listdir('/content/drive/MyDrive/ColabNotebooks/AppliedDeepLearning/Kvasir-SEG/output/val/masks')))\n",
        "print(\"Number of test images: \", len(os.listdir('/content/drive/MyDrive/ColabNotebooks/AppliedDeepLearning/Kvasir-SEG/output/test/images')))\n",
        "print(\"Number of test masks : \", len(os.listdir('/content/drive/MyDrive/ColabNotebooks/AppliedDeepLearning/Kvasir-SEG/output/test/masks')))"
      ],
      "metadata": {
        "colab": {
          "base_uri": "https://localhost:8080/"
        },
        "id": "cKs_m99zhACC",
        "outputId": "f94600d1-e226-4b5d-9e60-2eb0ca67631a"
      },
      "execution_count": 45,
      "outputs": [
        {
          "output_type": "stream",
          "name": "stdout",
          "text": [
            "Number of training images:  800\n",
            "Number of training masks:  800\n",
            "Number of val images:  100\n",
            "Number of val masks:  100\n",
            "Number of test images:  100\n",
            "Number of test masks :  100\n"
          ]
        }
      ]
    }
  ]
}